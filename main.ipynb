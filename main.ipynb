{
 "cells": [
  {
   "cell_type": "code",
   "execution_count": 1,
   "metadata": {},
   "outputs": [],
   "source": [
    "import os\n",
    "import time\n",
    "import numpy as np\n",
    "import matplotlib.pyplot as plt\n",
    "\n",
    "from model import *\n",
    "\n",
    "import json"
   ]
  },
  {
   "cell_type": "code",
   "execution_count": 2,
   "metadata": {},
   "outputs": [],
   "source": [
    "# set model in python\n",
    "\n",
    "Nx = 101\n",
    "Ny = 81\n",
    "dx, dy = 0.01, 0.01\n",
    "Nt = 1001\n",
    "dt = 0.001\n",
    "pml_len = 30\n",
    "pml_alpha = 20\n",
    "\n",
    "\n",
    "m = Mesh(Nx, Ny, dx, dy)\n",
    "t = Time(Nt, dt)\n",
    "a = Acquisition(3, [[i,5] for i in range(3)],\n",
    "                10, [[i,0] for i in range(10)])\n",
    "c = np.ones([101,81])\n",
    "rho = np.ones([101,81])\n",
    "\n",
    "model = ModelPML(m, t, c, rho, a, pml_len, pml_alpha)\n",
    "\n",
    "model.writeModel()\n",
    "\n"
   ]
  },
  {
   "cell_type": "code",
   "execution_count": 7,
   "metadata": {},
   "outputs": [
    {
     "data": {
      "text/plain": [
       "{'Nx': 101,\n",
       " 'Ny': 81,\n",
       " 'dx': 0.01,\n",
       " 'dy': 0.01,\n",
       " 'Nt': 1001,\n",
       " 'dt': 0.001,\n",
       " 'c': array([[1., 1., 1., ..., 1., 1., 1.],\n",
       "        [1., 1., 1., ..., 1., 1., 1.],\n",
       "        [1., 1., 1., ..., 1., 1., 1.],\n",
       "        ...,\n",
       "        [1., 1., 1., ..., 1., 1., 1.],\n",
       "        [1., 1., 1., ..., 1., 1., 1.],\n",
       "        [1., 1., 1., ..., 1., 1., 1.]]),\n",
       " 'rho': array([[1., 1., 1., ..., 1., 1., 1.],\n",
       "        [1., 1., 1., ..., 1., 1., 1.],\n",
       "        [1., 1., 1., ..., 1., 1., 1.],\n",
       "        ...,\n",
       "        [1., 1., 1., ..., 1., 1., 1.],\n",
       "        [1., 1., 1., ..., 1., 1., 1.],\n",
       "        [1., 1., 1., ..., 1., 1., 1.]]),\n",
       " 'source_num': 3,\n",
       " 'source_position': array([[0, 5],\n",
       "        [1, 5],\n",
       "        [2, 5]]),\n",
       " 'receiver_num': 10,\n",
       " 'receiver_position': array([[0, 0],\n",
       "        [1, 0],\n",
       "        [2, 0],\n",
       "        [3, 0],\n",
       "        [4, 0],\n",
       "        [5, 0],\n",
       "        [6, 0],\n",
       "        [7, 0],\n",
       "        [8, 0],\n",
       "        [9, 0]]),\n",
       " 'c_inv': array([[1., 1., 1., ..., 1., 1., 1.],\n",
       "        [1., 1., 1., ..., 1., 1., 1.],\n",
       "        [1., 1., 1., ..., 1., 1., 1.],\n",
       "        ...,\n",
       "        [1., 1., 1., ..., 1., 1., 1.],\n",
       "        [1., 1., 1., ..., 1., 1., 1.],\n",
       "        [1., 1., 1., ..., 1., 1., 1.]]),\n",
       " 'rho_inv': array([[1., 1., 1., ..., 1., 1., 1.],\n",
       "        [1., 1., 1., ..., 1., 1., 1.],\n",
       "        [1., 1., 1., ..., 1., 1., 1.],\n",
       "        ...,\n",
       "        [1., 1., 1., ..., 1., 1., 1.],\n",
       "        [1., 1., 1., ..., 1., 1., 1.],\n",
       "        [1., 1., 1., ..., 1., 1., 1.]]),\n",
       " 'pml_len': 30,\n",
       " 'pml_alpha': 20,\n",
       " 'Nx_pml': 161,\n",
       " 'Ny_pml': 141,\n",
       " 'source_position_pml': array([[30, 35],\n",
       "        [31, 35],\n",
       "        [32, 35]]),\n",
       " 'receiver_position_pml': array([[30, 30],\n",
       "        [31, 30],\n",
       "        [32, 30],\n",
       "        [33, 30],\n",
       "        [34, 30],\n",
       "        [35, 30],\n",
       "        [36, 30],\n",
       "        [37, 30],\n",
       "        [38, 30],\n",
       "        [39, 30]]),\n",
       " 'c_pml': array([[1., 1., 1., ..., 1., 1., 1.],\n",
       "        [1., 1., 1., ..., 1., 1., 1.],\n",
       "        [1., 1., 1., ..., 1., 1., 1.],\n",
       "        ...,\n",
       "        [1., 1., 1., ..., 1., 1., 1.],\n",
       "        [1., 1., 1., ..., 1., 1., 1.],\n",
       "        [1., 1., 1., ..., 1., 1., 1.]]),\n",
       " 'rho_pml': array([[1., 1., 1., ..., 1., 1., 1.],\n",
       "        [1., 1., 1., ..., 1., 1., 1.],\n",
       "        [1., 1., 1., ..., 1., 1., 1.],\n",
       "        ...,\n",
       "        [1., 1., 1., ..., 1., 1., 1.],\n",
       "        [1., 1., 1., ..., 1., 1., 1.],\n",
       "        [1., 1., 1., ..., 1., 1., 1.]]),\n",
       " 'pml_value': array([20.        , 19.31034483, 18.62068966, 17.93103448, 17.24137931,\n",
       "        16.55172414, 15.86206897, 15.17241379, 14.48275862, 13.79310345,\n",
       "        13.10344828, 12.4137931 , 11.72413793, 11.03448276, 10.34482759,\n",
       "         9.65517241,  8.96551724,  8.27586207,  7.5862069 ,  6.89655172,\n",
       "         6.20689655,  5.51724138,  4.82758621,  4.13793103,  3.44827586,\n",
       "         2.75862069,  2.06896552,  1.37931034,  0.68965517,  0.        ]),\n",
       " 'sigma_x': array([[20.        , 20.        , 20.        , ..., 20.        ,\n",
       "         20.        , 20.        ],\n",
       "        [19.31034483, 19.31034483, 19.31034483, ..., 19.31034483,\n",
       "         19.31034483, 19.31034483],\n",
       "        [18.62068966, 18.62068966, 18.62068966, ..., 18.62068966,\n",
       "         18.62068966, 18.62068966],\n",
       "        ...,\n",
       "        [18.62068966, 18.62068966, 18.62068966, ..., 18.62068966,\n",
       "         18.62068966, 18.62068966],\n",
       "        [19.31034483, 19.31034483, 19.31034483, ..., 19.31034483,\n",
       "         19.31034483, 19.31034483],\n",
       "        [20.        , 20.        , 20.        , ..., 20.        ,\n",
       "         20.        , 20.        ]]),\n",
       " 'sigma_y': array([[20.        , 19.31034483, 18.62068966, ..., 18.62068966,\n",
       "         19.31034483, 20.        ],\n",
       "        [20.        , 19.31034483, 18.62068966, ..., 18.62068966,\n",
       "         19.31034483, 20.        ],\n",
       "        [20.        , 19.31034483, 18.62068966, ..., 18.62068966,\n",
       "         19.31034483, 20.        ],\n",
       "        ...,\n",
       "        [20.        , 19.31034483, 18.62068966, ..., 18.62068966,\n",
       "         19.31034483, 20.        ],\n",
       "        [20.        , 19.31034483, 18.62068966, ..., 18.62068966,\n",
       "         19.31034483, 20.        ],\n",
       "        [20.        , 19.31034483, 18.62068966, ..., 18.62068966,\n",
       "         19.31034483, 20.        ]])}"
      ]
     },
     "execution_count": 7,
     "metadata": {},
     "output_type": "execute_result"
    }
   ],
   "source": [
    "model.__dict__"
   ]
  },
  {
   "cell_type": "code",
   "execution_count": 4,
   "metadata": {},
   "outputs": [
    {
     "name": "stdout",
     "output_type": "stream",
     "text": [
      "0.01919865608215332\n"
     ]
    },
    {
     "name": "stderr",
     "output_type": "stream",
     "text": [
      "terminate called after throwing an instance of 'nlohmann::json_abi_v3_11_2::detail::type_error'\n",
      "  what():  [json.exception.type_error.302] type must be number, but is null\n",
      "Aborted\n"
     ]
    }
   ],
   "source": [
    "# solver\n",
    "\n",
    "top = time.time()\n",
    "os.system(\"./solver\")\n",
    "bottom = time.time()\n",
    "\n",
    "print((bottom - top))"
   ]
  },
  {
   "cell_type": "code",
   "execution_count": 5,
   "metadata": {},
   "outputs": [
    {
     "data": {
      "text/plain": [
       "<matplotlib.image.AxesImage at 0x7f0ba58ccc70>"
      ]
     },
     "execution_count": 5,
     "metadata": {},
     "output_type": "execute_result"
    },
    {
     "data": {
      "image/png": "[encoded data removed]",
      "text/plain": [
       "<Figure size 640x480 with 1 Axes>"
      ]
     },
     "metadata": {},
     "output_type": "display_data"
    }
   ],
   "source": [
    "plt.imshow(model.sigma_x)"
   ]
  },
  {
   "cell_type": "code",
   "execution_count": 6,
   "metadata": {},
   "outputs": [
    {
     "ename": "ValueError",
     "evalue": "cannot reshape array of size 25921 into shape (161,141)",
     "output_type": "error",
     "traceback": [
      "\u001b[0;31m---------------------------------------------------------------------------\u001b[0m",
      "\u001b[0;31mValueError\u001b[0m                                Traceback (most recent call last)",
      "\u001b[1;32m/home/lida/work/SeisImaging/main.ipynb Cell 6\u001b[0m line \u001b[0;36m7\n\u001b[1;32m      <a href='vscode-notebook-cell://wsl%2Bubuntu/home/lida/work/SeisImaging/main.ipynb#W5sdnNjb2RlLXJlbW90ZQ%3D%3D?line=3'>4</a>\u001b[0m data \u001b[39m=\u001b[39m json\u001b[39m.\u001b[39mload(f)\n\u001b[1;32m      <a href='vscode-notebook-cell://wsl%2Bubuntu/home/lida/work/SeisImaging/main.ipynb#W5sdnNjb2RlLXJlbW90ZQ%3D%3D?line=4'>5</a>\u001b[0m f\u001b[39m.\u001b[39mclose()\n\u001b[0;32m----> <a href='vscode-notebook-cell://wsl%2Bubuntu/home/lida/work/SeisImaging/main.ipynb#W5sdnNjb2RlLXJlbW90ZQ%3D%3D?line=6'>7</a>\u001b[0m u2 \u001b[39m=\u001b[39m np\u001b[39m.\u001b[39;49marray(data[\u001b[39m\"\u001b[39;49m\u001b[39mu2\u001b[39;49m\u001b[39m\"\u001b[39;49m])\u001b[39m.\u001b[39;49mreshape(Nx\u001b[39m+\u001b[39;49m\u001b[39m2\u001b[39;49m\u001b[39m*\u001b[39;49mpml_len, Ny\u001b[39m+\u001b[39;49m\u001b[39m2\u001b[39;49m\u001b[39m*\u001b[39;49mpml_len)\n",
      "\u001b[0;31mValueError\u001b[0m: cannot reshape array of size 25921 into shape (161,141)"
     ]
    }
   ],
   "source": [
    "# read\n",
    "\n",
    "f = open('./data/temp_cpp.json')\n",
    "data = json.load(f)\n",
    "f.close()\n",
    "\n",
    "u2 = np.array(data[\"u2\"]).reshape(Nx+2*pml_len, Ny+2*pml_len)"
   ]
  },
  {
   "cell_type": "code",
   "execution_count": null,
   "metadata": {},
   "outputs": [],
   "source": [
    "u2 = np.array(data[\"u2\"])"
   ]
  },
  {
   "cell_type": "code",
   "execution_count": null,
   "metadata": {},
   "outputs": [
    {
     "data": {
      "text/plain": [
       "(161, 141)"
      ]
     },
     "execution_count": 16,
     "metadata": {},
     "output_type": "execute_result"
    }
   ],
   "source": [
    "model.c_pml.shape"
   ]
  },
  {
   "cell_type": "code",
   "execution_count": null,
   "metadata": {},
   "outputs": [
    {
     "data": {
      "text/plain": [
       "22701"
      ]
     },
     "execution_count": 17,
     "metadata": {},
     "output_type": "execute_result"
    }
   ],
   "source": [
    "161 * 141"
   ]
  },
  {
   "cell_type": "code",
   "execution_count": null,
   "metadata": {},
   "outputs": [],
   "source": []
  }
 ],
 "metadata": {
  "kernelspec": {
   "display_name": "Python 3",
   "language": "python",
   "name": "python3"
  },
  "language_info": {
   "codemirror_mode": {
    "name": "ipython",
    "version": 3
   },
   "file_extension": ".py",
   "mimetype": "text/x-python",
   "name": "python",
   "nbconvert_exporter": "python",
   "pygments_lexer": "ipython3",
   "version": "3.10.12"
  }
 },
 "nbformat": 4,
 "nbformat_minor": 2
}
